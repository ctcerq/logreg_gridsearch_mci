{
 "cells": [
  {
   "cell_type": "markdown",
   "metadata": {
    "id": "GaZn9VN2WFgs"
   },
   "source": [
    "Import biblios"
   ]
  },
  {
   "cell_type": "code",
   "execution_count": 1,
   "metadata": {
    "id": "c0ZqtIEUScPc"
   },
   "outputs": [],
   "source": [
    "import numpy as np \n",
    "import pandas as pd \n",
    "from sklearn.model_selection import RepeatedStratifiedKFold, permutation_test_score\n",
    "from sklearn.preprocessing import StandardScaler\n",
    "from sklearn.linear_model import LogisticRegression, LogisticRegressionCV\n",
    "from sklearn.pipeline import Pipeline\n",
    "from sklearn.model_selection import train_test_split, cross_val_predict\n",
    "from sklearn.metrics import classification_report"
   ]
  },
  {
   "cell_type": "markdown",
   "metadata": {
    "id": "9MpFCrCRWXTq"
   },
   "source": [
    "Load and verify dataset"
   ]
  },
  {
   "cell_type": "code",
   "execution_count": 5,
   "metadata": {
    "colab": {
     "base_uri": "https://localhost:8080/"
    },
    "id": "5VAz752pvyOQ",
    "outputId": "fdc14218-3c4e-47b5-e1c0-743f0689b9e3"
   },
   "outputs": [
    {
     "data": {
      "text/plain": [
       "(45, 12)"
      ]
     },
     "execution_count": 5,
     "metadata": {},
     "output_type": "execute_result"
    }
   ],
   "source": [
    "data=pd.read_excel('/Users/ctc/Desktop/ccl/paper/Pasta4.xlsx')\n",
    "data.shape"
   ]
  },
  {
   "cell_type": "code",
   "execution_count": 6,
   "metadata": {
    "colab": {
     "base_uri": "https://localhost:8080/"
    },
    "id": "RecMw37EkLzA",
    "outputId": "4eabbd16-d7d8-4b5e-8e25-438ed3cfdcce"
   },
   "outputs": [
    {
     "data": {
      "text/plain": [
       "array(['PIB+', 'PIB-', 'control'], dtype=object)"
      ]
     },
     "execution_count": 6,
     "metadata": {},
     "output_type": "execute_result"
    }
   ],
   "source": [
    "data['groups'].unique()"
   ]
  },
  {
   "cell_type": "markdown",
   "metadata": {
    "id": "RnKjMyGEWacw"
   },
   "source": [
    "data description and export"
   ]
  },
  {
   "cell_type": "code",
   "execution_count": 7,
   "metadata": {
    "colab": {
     "base_uri": "https://localhost:8080/"
    },
    "id": "4j7-0us6kBFC",
    "outputId": "f8a3f052-d457-45cb-c6e2-bb0e3158d035"
   },
   "outputs": [
    {
     "name": "stdout",
     "output_type": "stream",
     "text": [
      "        l_hipp_meanbold                                                       \\\n",
      "                  count      mean        std    min      25%     50%     75%   \n",
      "groups                                                                         \n",
      "PIB+               17.0  7.962471  13.137149 -24.35  2.58500  6.3290  15.970   \n",
      "PIB-               14.0  7.043714   9.763331 -14.03  0.93165  9.1330  10.885   \n",
      "control            14.0  8.339780  10.182454 -11.30  3.03800  9.1085  14.045   \n",
      "\n",
      "               r_hipp_meanbold            ... l_hipp_meanbold_NvsL         \\\n",
      "           max           count      mean  ...                  75%    max   \n",
      "groups                                    ...                               \n",
      "PIB+     34.02            17.0  7.571412  ...             12.45000  24.79   \n",
      "PIB-     22.98            14.0  6.138643  ...              8.82425  21.58   \n",
      "control  29.70            14.0  4.328343  ...             14.82750  23.79   \n",
      "\n",
      "        r_hipp_meanbold_NvsL                                               \\\n",
      "                       count      mean       std     min       25%    50%   \n",
      "groups                                                                      \n",
      "PIB+                    17.0  6.276765  7.978332  -3.702 -2.480000  7.443   \n",
      "PIB-                    14.0  3.426714  7.796514 -18.510  1.518000  4.862   \n",
      "control                 14.0  7.216450  8.638843  -6.652  1.312725  6.952   \n",
      "\n",
      "                          \n",
      "              75%    max  \n",
      "groups                    \n",
      "PIB+     12.31000  22.62  \n",
      "PIB-      8.35325  13.77  \n",
      "control  13.39500  22.21  \n",
      "\n",
      "[3 rows x 80 columns]\n"
     ]
    }
   ],
   "source": [
    "table = pd.DataFrame(data.groupby('groups').describe())\n",
    "table.to_excel('table.xlsx')\n",
    "print(table)"
   ]
  },
  {
   "cell_type": "markdown",
   "metadata": {
    "id": "L4UksUpJWpBY"
   },
   "source": [
    "full model variables set and print"
   ]
  },
  {
   "cell_type": "code",
   "execution_count": 8,
   "metadata": {
    "colab": {
     "base_uri": "https://localhost:8080/"
    },
    "id": "pfBisotnw83y",
    "outputId": "161883f7-3d19-4f47-cc02-a63632e9e514"
   },
   "outputs": [
    {
     "name": "stdout",
     "output_type": "stream",
     "text": [
      "l_hipp_meanbold    -3.987\n",
      "r_hipp_meanbold    -1.732\n",
      "l_hipp_volume      4149.3\n",
      "r_hipp_volume      4285.0\n",
      "TSD                     7\n",
      "THD                     3\n",
      "logic_mem_II           24\n",
      "RAVLTII                13\n",
      "Name: 0, dtype: object\n"
     ]
    },
    {
     "data": {
      "text/plain": [
       "(45, 8)"
      ]
     },
     "execution_count": 8,
     "metadata": {},
     "output_type": "execute_result"
    }
   ],
   "source": [
    "X = data.iloc[:,1:9]\n",
    "y = data['groups']\n",
    "print(data.iloc[0,1:9])\n",
    "X.shape"
   ]
  },
  {
   "cell_type": "markdown",
   "metadata": {
    "id": "4M98QdKa74sj"
   },
   "source": [
    "init modeling"
   ]
  },
  {
   "cell_type": "code",
   "execution_count": 14,
   "metadata": {
    "id": "VTHZH_usxE2J"
   },
   "outputs": [],
   "source": [
    "cv = RepeatedStratifiedKFold(n_splits=5, n_repeats=3, random_state=10)"
   ]
  },
  {
   "cell_type": "markdown",
   "metadata": {
    "id": "6ul0YOfiW5C3"
   },
   "source": [
    "nesting a pipeline for uniformization and analysis"
   ]
  },
  {
   "cell_type": "code",
   "execution_count": 15,
   "metadata": {
    "colab": {
     "base_uri": "https://localhost:8080/"
    },
    "id": "YODzoMY8C6At",
    "outputId": "222686c3-e911-423c-d158-8165d8e6787c"
   },
   "outputs": [
    {
     "data": {
      "text/plain": [
       "[('normalizer', StandardScaler()),\n",
       " ('clf',\n",
       "  LogisticRegressionCV(cv=RepeatedStratifiedKFold(n_repeats=3, n_splits=5, random_state=10),\n",
       "                       max_iter=10000, random_state=10))]"
      ]
     },
     "execution_count": 15,
     "metadata": {},
     "output_type": "execute_result"
    }
   ],
   "source": [
    "pipeline = Pipeline([\n",
    "    ('normalizer', StandardScaler()), #Step1 - normalize data, warm_start=True))\n",
    "    ('clf', LogisticRegressionCV(cv=cv, max_iter=10000, random_state=10)) #step2 - classifier\n",
    "])\n",
    "pipeline.steps"
   ]
  },
  {
   "cell_type": "markdown",
   "metadata": {
    "id": "vLYSNpPSXolV"
   },
   "source": [
    "init model"
   ]
  },
  {
   "cell_type": "code",
   "execution_count": 16,
   "metadata": {
    "colab": {
     "base_uri": "https://localhost:8080/"
    },
    "id": "51zTYCJ7sgtg",
    "outputId": "075aa739-51c1-4bad-aa5e-d8fdbe6249fd"
   },
   "outputs": [
    {
     "name": "stdout",
     "output_type": "stream",
     "text": [
      "              precision    recall  f1-score   support\n",
      "\n",
      "        PIB+       0.71      0.88      0.79        17\n",
      "        PIB-       0.78      0.50      0.61        14\n",
      "     control       0.80      0.86      0.83        14\n",
      "\n",
      "    accuracy                           0.76        45\n",
      "   macro avg       0.76      0.75      0.74        45\n",
      "weighted avg       0.76      0.76      0.75        45\n",
      "\n",
      "[[-0.02550747  0.04008336 -0.19145622 -0.0902727  -0.19101756 -0.15014764\n",
      "  -0.18358699 -0.0793919 ]\n",
      " [-0.01740301  0.00495634  0.16061191 -0.00379267 -0.05362268 -0.0836022\n",
      "   0.09970925 -0.14826845]\n",
      " [ 0.04291048 -0.0450397   0.03084431  0.09406538  0.24464024  0.23374983\n",
      "   0.08387774  0.22766035]]\n"
     ]
    },
    {
     "data": {
      "text/plain": [
       "array([[0.9748151 , 1.04089754, 0.82575578, 0.91368199, 0.82611808,\n",
       "        0.86058091, 0.83227947, 0.92367786],\n",
       "       [0.98274755, 1.00496864, 1.17422918, 0.99621451, 0.94778966,\n",
       "        0.91979708, 1.10484963, 0.86219963],\n",
       "       [1.04384445, 0.95595953, 1.03132492, 1.09863157, 1.27716176,\n",
       "        1.26332841, 1.08749593, 1.25565877]])"
      ]
     },
     "execution_count": 16,
     "metadata": {},
     "output_type": "execute_result"
    }
   ],
   "source": [
    "model = pipeline.fit(X, y)\n",
    "y_pred = model.predict(X)\n",
    "print(classification_report(y, y_pred))\n",
    "print(pipeline.named_steps['clf'].coef_)\n",
    "np.exp(pipeline.named_steps['clf'].coef_)"
   ]
  },
  {
   "cell_type": "markdown",
   "metadata": {
    "id": "5EBIEm4LQFZC"
   },
   "source": [
    "\n",
    "\n",
    "---\n",
    "\n"
   ]
  },
  {
   "cell_type": "markdown",
   "metadata": {
    "id": "-9xIDuesb49b"
   },
   "source": [
    "hyperparameters tunning model with set separation and gridsearch cross-validation "
   ]
  },
  {
   "cell_type": "code",
   "execution_count": null,
   "metadata": {
    "id": "sNyvaauK2HdA"
   },
   "outputs": [],
   "source": [
    "# define search space\n",
    "from scipy.stats import loguniform\n",
    "from sklearn.model_selection import GridSearchCV\n",
    "pipeline = Pipeline([\n",
    "    ('normalizer', StandardScaler()),\n",
    "    ('clf', LogisticRegression(solver='liblinear', max_iter=10000, random_state=10, warm_start=True))])\n",
    "space = dict()\n",
    "space ['multi_class'] = ['multinomial', 'ovr']\n",
    "space['solver'] = ['liblinear','lbfgs', 'newton-cg', 'sag', 'saga']\n",
    "space['penalty'] = [ 'none', 'l1', 'l2']\n",
    "space['C'] = [1e-5, 1e-4, 1e-3, 1e-2, 1e-1, 1, 10, 100]\n",
    "cv = RepeatedStratifiedKFold(random_state=1)\n",
    "search = GridSearchCV(pipeline.named_steps['clf'], space, cv=cv, n_jobs=-1)\n",
    "result = search.fit(X, y)"
   ]
  },
  {
   "cell_type": "code",
   "execution_count": null,
   "metadata": {
    "colab": {
     "base_uri": "https://localhost:8080/"
    },
    "id": "hgnVyzd8fRGN",
    "outputId": "181a7b95-37a5-44b9-936d-01a15d6da41e"
   },
   "outputs": [
    {
     "name": "stdout",
     "output_type": "stream",
     "text": [
      "Best Score: 0.6415961199294533\n",
      "Best Hyperparameters: {'C': 0.01, 'multi_class': 'ovr', 'penalty': 'l2', 'solver': 'newton-cg'}\n"
     ]
    }
   ],
   "source": [
    "y_pred = search.predict(X)\n",
    "print('Best Score: %s' % result.best_score_)\n",
    "print('Best Hyperparameters: %s' % result.best_params_)"
   ]
  },
  {
   "cell_type": "code",
   "execution_count": null,
   "metadata": {
    "colab": {
     "base_uri": "https://localhost:8080/"
    },
    "id": "PsvLadPLr_wn",
    "outputId": "35d86905-15f5-4de6-a973-1180e0854a9a"
   },
   "outputs": [
    {
     "name": "stdout",
     "output_type": "stream",
     "text": [
      "              precision    recall  f1-score   support\n",
      "\n",
      "        PIB+       0.75      0.88      0.81        17\n",
      "        PIB-       0.75      0.64      0.69        14\n",
      "     control       0.77      0.71      0.74        14\n",
      "\n",
      "    accuracy                           0.76        45\n",
      "   macro avg       0.76      0.75      0.75        45\n",
      "weighted avg       0.76      0.76      0.75        45\n",
      "\n",
      "Empty DataFrame\n",
      "Columns: []\n",
      "Index: []\n"
     ]
    }
   ],
   "source": [
    "print(classification_report(y, y_pred))\n",
    "metrics = pd.DataFrame()\n",
    "metrics.to_csv('metrics.csv')\n",
    "print(metrics)"
   ]
  },
  {
   "cell_type": "markdown",
   "metadata": {
    "id": "zSx5Atb284VZ"
   },
   "source": [
    "obtaining and exporting coeficients"
   ]
  },
  {
   "cell_type": "code",
   "execution_count": null,
   "metadata": {
    "colab": {
     "base_uri": "https://localhost:8080/"
    },
    "id": "hp-Y_99avP7R",
    "outputId": "dc641d1b-47b2-4ea8-cb72-61c78c8883f0"
   },
   "outputs": [
    {
     "name": "stdout",
     "output_type": "stream",
     "text": [
      "          0         1         2  ...         5         6         7\n",
      "0 -0.040260  0.026463 -0.004082  ... -0.044157 -0.113139 -0.015201\n",
      "1  0.006441  0.026547  0.006134  ... -0.018244  0.088427 -0.106843\n",
      "2  0.040796 -0.066044 -0.002174  ...  0.058361  0.020619  0.109684\n",
      "\n",
      "[3 rows x 8 columns]\n"
     ]
    }
   ],
   "source": [
    "coefs = pd.DataFrame(result.best_estimator_.coef_)\n",
    "coefs.to_excel('coefsccl.xlsx')\n",
    "print(coefs)\n"
   ]
  },
  {
   "cell_type": "markdown",
   "metadata": {
    "id": "ciYCFIbu9OFK"
   },
   "source": [
    "obtaining and exporting odds-ratios"
   ]
  },
  {
   "cell_type": "code",
   "execution_count": null,
   "metadata": {
    "colab": {
     "base_uri": "https://localhost:8080/"
    },
    "id": "oHjGOo1TKazR",
    "outputId": "d3d6e899-3c87-4f40-b3f3-b2303aaeb451"
   },
   "outputs": [
    {
     "name": "stdout",
     "output_type": "stream",
     "text": [
      "          0         1         2  ...         5         6         7\n",
      "0  0.960539  1.026816  0.995926  ...  0.956803  0.893027  0.984914\n",
      "1  1.006462  1.026902  1.006153  ...  0.981922  1.092455  0.898666\n",
      "2  1.041639  0.936089  0.997828  ...  1.060097  1.020833  1.115925\n",
      "\n",
      "[3 rows x 8 columns]\n"
     ]
    }
   ],
   "source": [
    "odds = np.exp(pd.DataFrame(result.best_estimator_.coef_))\n",
    "odds.to_excel('oddsccl.xlsx')\n",
    "print(odds)"
   ]
  },
  {
   "cell_type": "markdown",
   "metadata": {
    "id": "2M5FFYxS4c2Q"
   },
   "source": [
    " finding p-value for the model\n",
    "\n",
    "\n"
   ]
  },
  {
   "cell_type": "code",
   "execution_count": null,
   "metadata": {
    "colab": {
     "base_uri": "https://localhost:8080/"
    },
    "id": "xgLgxjGPNrUH",
    "outputId": "56ba51a5-860e-49e9-843a-67c59673a2e6"
   },
   "outputs": [
    {
     "data": {
      "text/plain": [
       "(0.6222222222222221,\n",
       " array([0.33333333, 0.28888889, 0.42222222, 0.4       , 0.4       ,\n",
       "        0.33333333, 0.35555556, 0.26666667, 0.33333333, 0.35555556,\n",
       "        0.44444444, 0.33333333, 0.4       , 0.46666667, 0.31111111,\n",
       "        0.33333333, 0.31111111, 0.28888889, 0.44444444, 0.37777778,\n",
       "        0.44444444, 0.37777778, 0.37777778, 0.33333333, 0.31111111,\n",
       "        0.42222222, 0.35555556, 0.35555556, 0.35555556, 0.4       ,\n",
       "        0.4       , 0.37777778, 0.4       , 0.35555556, 0.37777778,\n",
       "        0.28888889, 0.35555556, 0.4       , 0.44444444, 0.4       ,\n",
       "        0.35555556, 0.33333333, 0.44444444, 0.46666667, 0.42222222,\n",
       "        0.4       , 0.33333333, 0.35555556, 0.28888889, 0.31111111,\n",
       "        0.33333333, 0.35555556, 0.26666667, 0.33333333, 0.44444444,\n",
       "        0.33333333, 0.37777778, 0.33333333, 0.4       , 0.28888889,\n",
       "        0.44444444, 0.33333333, 0.31111111, 0.48888889, 0.28888889,\n",
       "        0.4       , 0.35555556, 0.28888889, 0.31111111, 0.28888889,\n",
       "        0.26666667, 0.35555556, 0.37777778, 0.37777778, 0.35555556,\n",
       "        0.33333333, 0.51111111, 0.28888889, 0.35555556, 0.35555556,\n",
       "        0.35555556, 0.4       , 0.37777778, 0.35555556, 0.35555556,\n",
       "        0.4       , 0.37777778, 0.26666667, 0.33333333, 0.37777778,\n",
       "        0.35555556, 0.35555556, 0.31111111, 0.35555556, 0.33333333,\n",
       "        0.28888889, 0.51111111, 0.33333333, 0.4       , 0.37777778]),\n",
       " 0.009900990099009901)"
      ]
     },
     "execution_count": 51,
     "metadata": {},
     "output_type": "execute_result"
    }
   ],
   "source": [
    "permutation_test_score(model, X, y)"
   ]
  },
  {
   "cell_type": "markdown",
   "metadata": {
    "id": "GUvDzB_q5gVV"
   },
   "source": []
  }
 ],
 "metadata": {
  "accelerator": "TPU",
  "colab": {
   "collapsed_sections": [],
   "name": "lg_gridsearch_ROI_MRIfs.ipynb",
   "provenance": []
  },
  "kernelspec": {
   "display_name": "Python 3 (ipykernel)",
   "language": "python",
   "name": "python3"
  },
  "language_info": {
   "codemirror_mode": {
    "name": "ipython",
    "version": 3
   },
   "file_extension": ".py",
   "mimetype": "text/x-python",
   "name": "python",
   "nbconvert_exporter": "python",
   "pygments_lexer": "ipython3",
   "version": "3.9.7"
  }
 },
 "nbformat": 4,
 "nbformat_minor": 4
}
